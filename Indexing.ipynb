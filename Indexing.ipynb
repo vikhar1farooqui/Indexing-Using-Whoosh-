{
 "cells": [
  {
   "cell_type": "code",
   "execution_count": 1,
   "metadata": {},
   "outputs": [],
   "source": [
    "from whoosh.qparser import *\n",
    "from whoosh.fields import Schema, TEXT, KEYWORD, ID, STORED,NUMERIC\n",
    "from whoosh.analysis import StemmingAnalyzer,StandardAnalyzer\n",
    "from whoosh import index\n",
    "import os, os.path"
   ]
  },
  {
   "cell_type": "code",
   "execution_count": 2,
   "metadata": {},
   "outputs": [],
   "source": [
    "schema = Schema(page=NUMERIC(stored=True),\n",
    "                title=TEXT(analyzer=StandardAnalyzer(stoplist=None),stored=True),\n",
    "                topic=TEXT(analyzer=StandardAnalyzer(stoplist=None),stored=True),\n",
    "                abstract=TEXT(analyzer=StandardAnalyzer(stoplist=None),stored=True),\n",
    "                subject=TEXT(analyzer=StandardAnalyzer(stoplist=None)),\n",
    "                sub=KEYWORD(commas=True,scorable=True),\n",
    "                keywords=KEYWORD(commas=True, scorable=True))"
   ]
  },
  {
   "cell_type": "code",
   "execution_count": 3,
   "metadata": {},
   "outputs": [],
   "source": [
    "#to create an index in a dictionary\n",
    "if not os.path.exists(\"indexdir\"):\n",
    "    os.mkdir(\"indexdir\")\n",
    "ix = index.create_in(\"indexdir\", schema)\n",
    "#open an existing index object\n",
    "ix = index.open_dir(\"indexdir\")\n",
    "#create a writer object to add documents to the index\n",
    "writer = ix.writer()"
   ]
  },
  {
   "cell_type": "code",
   "execution_count": 4,
   "metadata": {},
   "outputs": [],
   "source": [
    "abstract1=u'''Develop\n",
    "Accelerate real-world development\n",
    "Software developers and data scientists can work together with AE to build, test, debug, and deploy models using their preferred languages and tools. AE provides access to both notebooks and IDEs so developers and data scientists can work together more efficiently. They can also choose from example projects and preconfigured projects. AE projects are automatically containerized so they can be moved between environments with ease.'''\n"
   ]
  },
  {
   "cell_type": "code",
   "execution_count": 5,
   "metadata": {},
   "outputs": [],
   "source": [
    "writer.add_document(page=u\"1\",\n",
    "                title=u\"Develop\",\n",
    "                topic=u\"Accelerate real-world developmen \",\n",
    "                abstract=abstract1,\n",
    "                subject=u\"Example\",\n",
    "                keywords=u\"Software\")\n",
    "writer.commit()"
   ]
  },
  {
   "cell_type": "code",
   "execution_count": 6,
   "metadata": {},
   "outputs": [
    {
     "name": "stdout",
     "output_type": "stream",
     "text": [
      "(abstract:apple AND abstract:company AND abstract:department)\n"
     ]
    }
   ],
   "source": [
    "parser=QueryParser(\"abstract\",schema=schema) \n",
    "result=parser.parse(u\"apple company department\")\n",
    "print (result)"
   ]
  },
  {
   "cell_type": "code",
   "execution_count": 7,
   "metadata": {},
   "outputs": [
    {
     "name": "stdout",
     "output_type": "stream",
     "text": [
      "(abstract:year AND abstract:{0 TO ])\n"
     ]
    }
   ],
   "source": [
    "parser.add_plugin(GtLtPlugin()) \n",
    "result=parser.parse(u\"year:>0\")\n",
    "print (result)"
   ]
  },
  {
   "cell_type": "code",
   "execution_count": 8,
   "metadata": {},
   "outputs": [
    {
     "name": "stdout",
     "output_type": "stream",
     "text": [
      "abstract:develop\n",
      "Develop\n",
      "Accelerate real-world development\n",
      "Software developers and data scientists can work together with AE to build, test, debug, and deploy models using their preferred languages and tools. AE provides access to both notebooks and IDEs so developers and data scientists can work together more efficiently. They can also choose from example projects and preconfigured projects. AE projects are automatically containerized so they can be moved between environments with ease.\n"
     ]
    }
   ],
   "source": [
    "parser.add_plugin(FuzzyTermPlugin())\n",
    "result=parser.parse(u\"Develop\")\n",
    "print (result)\n",
    "import pdb\n",
    "with ix.searcher() as searcher:\n",
    "    results=searcher.search(result)#The Results object acts like a list of the matched documents.\n",
    "    result1 = (results[0])\n",
    "    #pdb.set_trace()\n",
    "    #print(result1)\n",
    "    print(result1[\"abstract\"])"
   ]
  },
  {
   "cell_type": "code",
   "execution_count": null,
   "metadata": {},
   "outputs": [],
   "source": []
  }
 ],
 "metadata": {
  "kernelspec": {
   "display_name": "Python 3",
   "language": "python",
   "name": "python3"
  },
  "language_info": {
   "codemirror_mode": {
    "name": "ipython",
    "version": 3
   },
   "file_extension": ".py",
   "mimetype": "text/x-python",
   "name": "python",
   "nbconvert_exporter": "python",
   "pygments_lexer": "ipython3",
   "version": "3.7.4"
  }
 },
 "nbformat": 4,
 "nbformat_minor": 2
}
